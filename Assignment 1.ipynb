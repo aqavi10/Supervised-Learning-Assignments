{
 "cells": [
  {
   "cell_type": "markdown",
   "metadata": {},
   "source": [
    " Assignment 1\n",
    "(Asssignment on Python)"
   ]
  },
  {
   "cell_type": "markdown",
   "metadata": {},
   "source": [
    "Questions on String"
   ]
  },
  {
   "cell_type": "code",
   "execution_count": 3,
   "metadata": {},
   "outputs": [],
   "source": [
    "st=\"I am very keen in building up my career in Data Science, but not sure from where to start.If I search the web it throws me thousands of articles, few are relevant others make me confused,again I come around to the same page. Supervised has provided me a good platformto remove all such qualms which were wrangling in my mind\""
   ]
  },
  {
   "cell_type": "code",
   "execution_count": 5,
   "metadata": {},
   "outputs": [
    {
     "name": "stdout",
     "output_type": "stream",
     "text": [
      "The average length of the string is : 324\n"
     ]
    }
   ],
   "source": [
    "#1. Average length of the string\n",
    "print(\"The average length of the string is :\",len(st))"
   ]
  },
  {
   "cell_type": "code",
   "execution_count": 6,
   "metadata": {},
   "outputs": [
    {
     "data": {
      "text/plain": [
       "'i am very keen in building up my career in data science, but not sure from where to start.if i search the web it throws me thousands of articles, few are relevant others make me confused,again i come around to the same page. supervised has provided me a good platformto remove all such qualms which were wrangling in my mind'"
      ]
     },
     "execution_count": 6,
     "metadata": {},
     "output_type": "execute_result"
    }
   ],
   "source": [
    "#2. Lower-case of the string\n",
    "st.lower()"
   ]
  },
  {
   "cell_type": "code",
   "execution_count": 10,
   "metadata": {},
   "outputs": [
    {
     "data": {
      "text/plain": [
       "'I am very keen in building up my career in Data Science but not sure from where to startIf I search the web it throws me thousands of articles few are relevant others make me confusedagain I come around to the same page Supervised has provided me a good platformto remove all such qualms which were wrangling in my mind'"
      ]
     },
     "execution_count": 10,
     "metadata": {},
     "output_type": "execute_result"
    }
   ],
   "source": [
    "#3. Removing Punctuations\n",
    "import string\n",
    "st.translate(str.maketrans('', '', string.punctuation))"
   ]
  },
  {
   "cell_type": "code",
   "execution_count": 16,
   "metadata": {},
   "outputs": [
    {
     "data": {
      "text/plain": [
       "'Data Science'"
      ]
     },
     "execution_count": 16,
     "metadata": {},
     "output_type": "execute_result"
    }
   ],
   "source": [
    "#4. Extract the word Data-Science\n",
    "import re\n",
    "re.search(\"Data Science\",st).group()"
   ]
  },
  {
   "cell_type": "code",
   "execution_count": 26,
   "metadata": {},
   "outputs": [
    {
     "name": "stdout",
     "output_type": "stream",
     "text": [
      "Frequency of  wrangling : 1\n",
      "Frequency of  sure : 1\n",
      "Frequency of  search : 1\n",
      "Frequency of  Supervised : 1\n",
      "Frequency of  career : 1\n",
      "Frequency of  page. : 1\n",
      "Frequency of  very : 1\n",
      "Frequency of  where : 1\n",
      "Frequency of  am : 1\n",
      "Frequency of  web : 1\n",
      "Frequency of  platformto : 1\n",
      "Frequency of  has : 1\n",
      "Frequency of  such : 1\n",
      "Frequency of  it : 1\n",
      "Frequency of  to : 2\n",
      "Frequency of  in : 3\n",
      "Frequency of  the : 2\n",
      "Frequency of  throws : 1\n",
      "Frequency of  good : 1\n",
      "Frequency of  were : 1\n",
      "Frequency of  I : 3\n",
      "Frequency of  confused,again : 1\n",
      "Frequency of  keen : 1\n",
      "Frequency of  but : 1\n",
      "Frequency of  up : 1\n",
      "Frequency of  relevant : 1\n",
      "Frequency of  around : 1\n",
      "Frequency of  come : 1\n",
      "Frequency of  all : 1\n",
      "Frequency of  few : 1\n",
      "Frequency of  provided : 1\n",
      "Frequency of  building : 1\n",
      "Frequency of  from : 1\n",
      "Frequency of  start.If : 1\n",
      "Frequency of  make : 1\n",
      "Frequency of  Science, : 1\n",
      "Frequency of  Data : 1\n",
      "Frequency of  thousands : 1\n",
      "Frequency of  others : 1\n",
      "Frequency of  remove : 1\n",
      "Frequency of  same : 1\n",
      "Frequency of  which : 1\n",
      "Frequency of  are : 1\n",
      "Frequency of  mind : 1\n",
      "Frequency of  qualms : 1\n",
      "Frequency of  articles, : 1\n",
      "Frequency of  not : 1\n",
      "Frequency of  me : 3\n",
      "Frequency of  a : 1\n",
      "Frequency of  of : 1\n",
      "Frequency of  my : 2\n"
     ]
    }
   ],
   "source": [
    "#5. Frequency of words used in the string\n",
    "str_list = st.split() \n",
    "  \n",
    "#Unique words \n",
    "unique_words = set(str_list) \n",
    "      \n",
    "for words in unique_words : \n",
    "    print('Frequency of ', words , ':', str_list.count(words)) "
   ]
  },
  {
   "cell_type": "code",
   "execution_count": 25,
   "metadata": {},
   "outputs": [
    {
     "name": "stdout",
     "output_type": "stream",
     "text": [
      "Words which occured more than once are : \n",
      "\n",
      "to\n",
      "in\n",
      "the\n",
      "I\n",
      "me\n",
      "my\n"
     ]
    }
   ],
   "source": [
    "#6. Words occurring more than once\n",
    "print(\"Words which occured more than once are : \\n\")\n",
    "for words in unique_words : \n",
    "    if str_list.count(words)>1:\n",
    "        print(words)"
   ]
  },
  {
   "cell_type": "code",
   "execution_count": 27,
   "metadata": {},
   "outputs": [
    {
     "data": {
      "text/plain": [
       "'I am very keen in building up my career in Data Science, but not sure from where to start.If I search the web it throws me thousands of articles, few are relevant others make me confused,again I come around to the same page. Unsupervised has provided me a good platformto remove all such qualms which were wrangling in my mind'"
      ]
     },
     "execution_count": 27,
     "metadata": {},
     "output_type": "execute_result"
    }
   ],
   "source": [
    "#7. Change Supervised to Unsupervise\n",
    "st.replace('Supervised','Unsupervised')"
   ]
  },
  {
   "cell_type": "code",
   "execution_count": 28,
   "metadata": {},
   "outputs": [
    {
     "data": {
      "text/plain": [
       "['I am very keen in building up my career in Data Science, but not sure from where to start',\n",
       " 'If I search the web it throws me thousands of articles, few are relevant others make me confused,again I come around to the same page',\n",
       " ' Supervised has provided me a good platformto remove all such qualms which were wrangling in my mind']"
      ]
     },
     "execution_count": 28,
     "metadata": {},
     "output_type": "execute_result"
    }
   ],
   "source": [
    "#8. Split string on (.) operator\n",
    "st.split('.')"
   ]
  },
  {
   "cell_type": "code",
   "execution_count": 29,
   "metadata": {},
   "outputs": [
    {
     "name": "stdout",
     "output_type": "stream",
     "text": [
      "sure\n",
      "where\n",
      "the\n",
      "were\n",
      "come\n",
      "make\n",
      "remove\n",
      "same\n",
      "are\n",
      "me\n"
     ]
    }
   ],
   "source": [
    "#9. Find words ending with 'e'\n",
    "for words in unique_words : \n",
    "    if words.endswith('e'):\n",
    "        print(words)"
   ]
  },
  {
   "cell_type": "code",
   "execution_count": 33,
   "metadata": {},
   "outputs": [
    {
     "name": "stdout",
     "output_type": "stream",
     "text": [
      "The no. of a's used in the string are:\n",
      "1\n"
     ]
    }
   ],
   "source": [
    "#10. The no. of a's used in the string\n",
    "count=0\n",
    "print(\"The no. of a's used in the string are:\")\n",
    "for words in unique_words : \n",
    "    if words=='a':\n",
    "        count=count+1\n",
    "        print(count)"
   ]
  },
  {
   "cell_type": "code",
   "execution_count": null,
   "metadata": {},
   "outputs": [],
   "source": [
    "Questions on Dictionary"
   ]
  },
  {
   "cell_type": "markdown",
   "metadata": {},
   "source": [
    "In the weekend , I purchased 250g of apple, 500g of sugar, 2.5 kg of rice, 2.5 litres of milk and finally 1 dozen of egg.\n",
    "\n",
    "1.Can you help me frame the above purchase in the form of dictionary with commodities as keys to it.\n",
    "\n",
    "2.I forgot to mention another item, 1kg of atta packet. Can you also add it ?\n",
    "\n",
    "3.Instead of 2kg of rice, I bought only 1kg of rice. Can you change the corresponding value ?\n",
    "\n",
    "4.Can you list out all these items using a loop."
   ]
  },
  {
   "cell_type": "code",
   "execution_count": 48,
   "metadata": {},
   "outputs": [],
   "source": [
    "#1. Framing the purchases into a dictionary\n",
    "groc={'apple':'250g','sugar':'500g','rice':'2.5kg','milk':'2.5 litres','egg':'1 dozen'}"
   ]
  },
  {
   "cell_type": "code",
   "execution_count": 49,
   "metadata": {},
   "outputs": [],
   "source": [
    "#2. Adding atta into the dict\n",
    "groc.update({'atta':'1kg'})"
   ]
  },
  {
   "cell_type": "code",
   "execution_count": 50,
   "metadata": {},
   "outputs": [],
   "source": [
    "#3. Updating rice into the dict\n",
    "groc.update(rice='1kg')"
   ]
  },
  {
   "cell_type": "code",
   "execution_count": 52,
   "metadata": {},
   "outputs": [
    {
     "name": "stdout",
     "output_type": "stream",
     "text": [
      "('apple', '250g')\n",
      "('sugar', '500g')\n",
      "('rice', '1kg')\n",
      "('milk', '2.5 litres')\n",
      "('egg', '1 dozen')\n",
      "('atta', '1kg')\n"
     ]
    }
   ],
   "source": [
    "#4. Listing items using loop\n",
    "for i in groc.items():\n",
    "    print(i)"
   ]
  },
  {
   "cell_type": "markdown",
   "metadata": {},
   "source": [
    "However, the cost of 1 kg apple is Rs.220, 1 kg of sugar is Rs.43, 1 Kg of rice is Rs. 45, 1 litre of milk is Rs.30 and 1 dozen of egg is Rs. 60.\n",
    "Create another dictionary for pricing.\n",
    "\n",
    "Thereby, prepare a bill for me of the overall cost of the total commodities purchased by using two dictionaries !"
   ]
  },
  {
   "cell_type": "code",
   "execution_count": 66,
   "metadata": {},
   "outputs": [
    {
     "data": {
      "text/plain": [
       "{'apple': 220, 'sugar': 43, 'rice': 45, 'milk': 30, 'egg': 60}"
      ]
     },
     "execution_count": 66,
     "metadata": {},
     "output_type": "execute_result"
    }
   ],
   "source": [
    "pricing={'apple':220,'sugar':43,'rice':45,'milk':30,'egg':60}\n",
    "pricing"
   ]
  },
  {
   "cell_type": "code",
   "execution_count": 57,
   "metadata": {},
   "outputs": [],
   "source": [
    "#Updating groc units\n",
    "groc2={'apple':0.25,'sugar':0.5,'rice':1,'milk':2.5,'egg':1}"
   ]
  },
  {
   "cell_type": "code",
   "execution_count": 73,
   "metadata": {},
   "outputs": [
    {
     "name": "stdout",
     "output_type": "stream",
     "text": [
      "Itemwise bill :\n",
      "{'apple': 55.0, 'sugar': 21.5, 'rice': 45, 'milk': 75.0, 'egg': 60}\n",
      "\n",
      "Overall Bill is :\n"
     ]
    },
    {
     "data": {
      "text/plain": [
       "256.5"
      ]
     },
     "execution_count": 73,
     "metadata": {},
     "output_type": "execute_result"
    }
   ],
   "source": [
    "#Billing\n",
    "print(\"Itemwise bill :\") \n",
    "print({k: pricing[k]*groc2[k] for k in pricing})\n",
    "\n",
    "print(\"\\nOverall Bill is :\")\n",
    "sum(pricing[k]*groc2[k] for k in pricing)"
   ]
  },
  {
   "cell_type": "markdown",
   "metadata": {},
   "source": [
    "Question on List"
   ]
  },
  {
   "cell_type": "code",
   "execution_count": 84,
   "metadata": {},
   "outputs": [],
   "source": [
    "AI_companies=['Amazon','Facebook','Hisilicon','Google','Apple','Microsoft','Sensetime']"
   ]
  },
  {
   "cell_type": "code",
   "execution_count": 85,
   "metadata": {},
   "outputs": [
    {
     "name": "stdout",
     "output_type": "stream",
     "text": [
      "['Amazon', 'Apple', 'Facebook', 'Google', 'Hisilicon', 'Microsoft', 'Sensetime']\n"
     ]
    }
   ],
   "source": [
    "AI_companies.sort()\n",
    "print(AI_companies)"
   ]
  },
  {
   "cell_type": "code",
   "execution_count": 86,
   "metadata": {},
   "outputs": [],
   "source": [
    "AI_companies.extend(['Nvidia','OpenAI','Qualcomm','Reliance'])"
   ]
  },
  {
   "cell_type": "code",
   "execution_count": 88,
   "metadata": {},
   "outputs": [],
   "source": [
    "AI_companies.remove('Reliance')"
   ]
  },
  {
   "cell_type": "code",
   "execution_count": 95,
   "metadata": {},
   "outputs": [
    {
     "data": {
      "text/plain": [
       "['Amazon', 'Apple', 'Facebook', 'Google', 'Hisilicon', 'Microsoft']"
      ]
     },
     "execution_count": 95,
     "metadata": {},
     "output_type": "execute_result"
    }
   ],
   "source": [
    "AI_companies[0:6]"
   ]
  }
 ],
 "metadata": {
  "kernelspec": {
   "display_name": "Python 3",
   "language": "python",
   "name": "python3"
  },
  "language_info": {
   "codemirror_mode": {
    "name": "ipython",
    "version": 3
   },
   "file_extension": ".py",
   "mimetype": "text/x-python",
   "name": "python",
   "nbconvert_exporter": "python",
   "pygments_lexer": "ipython3",
   "version": "3.7.3"
  }
 },
 "nbformat": 4,
 "nbformat_minor": 2
}
